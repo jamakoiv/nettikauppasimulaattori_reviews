{
 "cells": [
  {
   "cell_type": "markdown",
   "metadata": {
    "application/vnd.databricks.v1+cell": {
     "cellMetadata": {
      "byteLimit": 2048000,
      "rowLimit": 10000
     },
     "inputWidgets": {},
     "nuid": "296bcf8c-7d6a-47f7-8a10-b0a5c2445c1f",
     "showTitle": false,
     "tableResultSettingsMap": {},
     "title": ""
    }
   },
   "source": [
    "###Apply the train-test split to the dataset.\n",
    "\n",
    "Split the dataset to train and test portitions for training the ML-models."
   ]
  },
  {
   "cell_type": "code",
   "execution_count": 0,
   "metadata": {
    "application/vnd.databricks.v1+cell": {
     "cellMetadata": {
      "byteLimit": 2048000,
      "rowLimit": 10000
     },
     "inputWidgets": {},
     "nuid": "40e98aca-ee8d-4ff9-9931-084b687974e4",
     "showTitle": false,
     "tableResultSettingsMap": {},
     "title": ""
    }
   },
   "outputs": [],
   "source": [
    "%run ../utils/run_target_helper"
   ]
  },
  {
   "cell_type": "code",
   "execution_count": 0,
   "metadata": {
    "application/vnd.databricks.v1+cell": {
     "cellMetadata": {
      "byteLimit": 2048000,
      "rowLimit": 10000
     },
     "inputWidgets": {},
     "nuid": "57289025-f327-4b0a-961d-baaa95ded0c3",
     "showTitle": false,
     "tableResultSettingsMap": {},
     "title": ""
    }
   },
   "outputs": [],
   "source": [
    "settings = get_settings(dbutils.widgets.get(\"TARGET\"))\n",
    "\n",
    "bronze_table = \"verkkokauppa_reviews_bronze\" + settings[\"table_suffix\"]\n",
    "upstream_table = \"verkkokauppa_reviews_silver\" + settings[\"table_suffix\"]\n",
    "downstream_table = \"verkkokauppa_reviews_gold\" + settings[\"table_suffix\"]"
   ]
  },
  {
   "cell_type": "markdown",
   "metadata": {
    "application/vnd.databricks.v1+cell": {
     "cellMetadata": {
      "byteLimit": 2048000,
      "rowLimit": 10000
     },
     "inputWidgets": {},
     "nuid": "6183bcc4-e84d-4aa9-9b85-2ce29a7770e2",
     "showTitle": false,
     "tableResultSettingsMap": {},
     "title": ""
    }
   },
   "source": [
    "Import libraries and dataset"
   ]
  },
  {
   "cell_type": "code",
   "execution_count": 0,
   "metadata": {
    "application/vnd.databricks.v1+cell": {
     "cellMetadata": {
      "byteLimit": 2048000,
      "rowLimit": 10000
     },
     "inputWidgets": {},
     "nuid": "32531243-f08a-4e1b-a62f-1f47026f46bf",
     "showTitle": false,
     "tableResultSettingsMap": {},
     "title": ""
    }
   },
   "outputs": [],
   "source": [
    "import numpy as np\n",
    "from sklearn.model_selection import train_test_split\n",
    "from pyspark.sql.functions import col, when, max\n",
    "\n",
    "df = spark.table(upstream_table)\n",
    "df_bronze = spark.table(bronze_table)\n",
    "\n",
    "data = df.select(\"id\", \"rating\").toPandas()"
   ]
  },
  {
   "cell_type": "markdown",
   "metadata": {
    "application/vnd.databricks.v1+cell": {
     "cellMetadata": {
      "byteLimit": 2048000,
      "rowLimit": 10000
     },
     "inputWidgets": {},
     "nuid": "15585914-62a0-4353-bd8b-fe6fe5b5d0a4",
     "showTitle": false,
     "tableResultSettingsMap": {},
     "title": ""
    }
   },
   "source": [
    "Apply the train-test split. We only split the *id* column, not the data itself, and later use the labels to retrieve *train* or *test* portition when needed.\n",
    "Since the dataset has strong imbalance in the rating values, we must use the **stratify** option to make sure the *train* and *test* portitions maintain similar\n",
    "distributions."
   ]
  },
  {
   "cell_type": "code",
   "execution_count": 0,
   "metadata": {
    "application/vnd.databricks.v1+cell": {
     "cellMetadata": {
      "byteLimit": 2048000,
      "rowLimit": 10000
     },
     "inputWidgets": {},
     "nuid": "529cdae7-6c0b-40d2-9f39-030b5d174929",
     "showTitle": false,
     "tableResultSettingsMap": {},
     "title": ""
    }
   },
   "outputs": [],
   "source": [
    "id_train, id_test = train_test_split(\n",
    "    data['id'].values, test_size=0.25, stratify=data['rating'].values\n",
    ")"
   ]
  },
  {
   "cell_type": "markdown",
   "metadata": {
    "application/vnd.databricks.v1+cell": {
     "cellMetadata": {
      "byteLimit": 2048000,
      "rowLimit": 10000
     },
     "inputWidgets": {},
     "nuid": "df68332e-3e93-4a67-98c2-967ac0da91c2",
     "showTitle": false,
     "tableResultSettingsMap": {},
     "title": ""
    }
   },
   "source": [
    "Add the *train-test* labels to the original dataset.\n",
    "\n",
    "Add a new column *positive_review*. All reviews with rating 1, 2, 3 are labeled negative, and 4 and 5 are labeled positive. With this we can use binary classifiers\n",
    "making the ML-model wrangling a little bit easier than using multiclass classifiers."
   ]
  },
  {
   "cell_type": "code",
   "execution_count": 0,
   "metadata": {
    "application/vnd.databricks.v1+cell": {
     "cellMetadata": {
      "byteLimit": 2048000,
      "rowLimit": 10000
     },
     "inputWidgets": {},
     "nuid": "4ced6877-d0bd-4a94-a8f9-b24f5a63c9c8",
     "showTitle": false,
     "tableResultSettingsMap": {},
     "title": ""
    }
   },
   "outputs": [],
   "source": [
    "df = df.withColumn('train_test', when(col('id').isin(id_train.tolist()), 'train').otherwise('test'))\n",
    "df = df.withColumn(\"positive_review\", when(df['rating'] >= 4, 1).otherwise(0))"
   ]
  },
  {
   "cell_type": "code",
   "execution_count": 0,
   "metadata": {
    "application/vnd.databricks.v1+cell": {
     "cellMetadata": {
      "byteLimit": 2048000,
      "rowLimit": 10000
     },
     "inputWidgets": {},
     "nuid": "da116872-e7d8-4878-b674-ff593d15e5da",
     "showTitle": false,
     "tableResultSettingsMap": {},
     "title": ""
    }
   },
   "outputs": [],
   "source": [
    "df.write.mode(\"overwrite\").option(\"overwriteSchema\", \"True\").format(\"delta\").saveAsTable(downstream_table)\n",
    "df.write.mode(\"overwrite\").parquet(f\"/tmp/{downstream_table}\")"
   ]
  },
  {
   "cell_type": "code",
   "execution_count": 0,
   "metadata": {
    "application/vnd.databricks.v1+cell": {
     "cellMetadata": {
      "byteLimit": 2048000,
      "rowLimit": 10000
     },
     "inputWidgets": {},
     "nuid": "4392dbd8-d8df-4d8f-bd2b-81a36ffd83ad",
     "showTitle": false,
     "tableResultSettingsMap": {},
     "title": ""
    }
   },
   "outputs": [],
   "source": []
  },
  {
   "cell_type": "code",
   "execution_count": 0,
   "metadata": {
    "application/vnd.databricks.v1+cell": {
     "cellMetadata": {
      "byteLimit": 2048000,
      "rowLimit": 10000
     },
     "inputWidgets": {},
     "nuid": "e1491c2d-3fb1-4274-ab28-95f4debebd4a",
     "showTitle": false,
     "tableResultSettingsMap": {},
     "title": ""
    }
   },
   "outputs": [],
   "source": [
    "q = df_bronze.groupBy(\"language\").count().orderBy(col(\"count\"), ascending=False).select(\"count\").collect()[0][0]\n",
    "print(q)"
   ]
  },
  {
   "cell_type": "code",
   "execution_count": 0,
   "metadata": {
    "application/vnd.databricks.v1+cell": {
     "cellMetadata": {
      "byteLimit": 2048000,
      "rowLimit": 10000
     },
     "inputWidgets": {},
     "nuid": "a250865e-f44b-4aca-afcb-7fa8ba2b9743",
     "showTitle": false,
     "tableResultSettingsMap": {},
     "title": ""
    }
   },
   "outputs": [],
   "source": [
    "import seaborn as sns\n",
    "import matplotlib.pyplot as plt\n",
    "\n",
    "sns.set_theme()\n",
    "fig = plt.figure(figsize=(12, 5))\n",
    "ax1 = fig.add_subplot(1, 3, 1)\n",
    "ax2 = fig.add_subplot(1, 3, 2)\n",
    "ax3 = fig.add_subplot(1, 3, 3)\n",
    "\n",
    "sns.histplot(data=df_bronze.toPandas(), x=\"language\", ax=ax1)\n",
    "sns.histplot(data=df.toPandas(), x=\"rating\", hue=\"train_test\", multiple=\"stack\", ax=ax2)\n",
    "sns.histplot(data=df_bronze.toPandas(), x=\"rating\", hue=\"category\", multiple=\"dodge\", ax=ax3, bins=10)\n",
    "\n",
    "ylim_max = df_bronze.groupBy(\"language\").count().orderBy(col(\"count\"), ascending=False).select(\"count\").collect()[0][0]\n",
    "for ax in [ax1, ax2, ax3]:\n",
    "    ax.set_ylim(0, ylim_max)\n",
    "\n",
    "ax2.set_ylabel(\"\")\n",
    "ax3.set_ylabel(\"\")\n",
    "ax2.set_yticklabels([])\n",
    "ax3.set_yticklabels([])\n",
    "fig.subplots_adjust(wspace=0.05)\n",
    "fig.show()"
   ]
  }
 ],
 "metadata": {
  "application/vnd.databricks.v1+notebook": {
   "computePreferences": null,
   "dashboards": [],
   "environmentMetadata": {
    "base_environment": "",
    "client": "1"
   },
   "language": "python",
   "notebookMetadata": {
    "pythonIndentUnit": 4
   },
   "notebookName": "train-test-split",
   "widgets": {
    "TARGET": {
     "currentValue": "PROD",
     "nuid": "fa137510-67f3-4884-9fdd-e1f5c4bff411",
     "typedWidgetInfo": {
      "autoCreated": false,
      "defaultValue": "TEST",
      "label": "",
      "name": "TARGET",
      "options": {
       "widgetDisplayType": "Text",
       "validationRegex": null
      },
      "parameterDataType": "String"
     },
     "widgetInfo": {
      "widgetType": "text",
      "defaultValue": "TEST",
      "label": "",
      "name": "TARGET",
      "options": {
       "widgetType": "text",
       "autoCreated": false,
       "validationRegex": null
      }
     }
    }
   }
  },
  "language_info": {
   "name": "python"
  }
 },
 "nbformat": 4,
 "nbformat_minor": 0
}
